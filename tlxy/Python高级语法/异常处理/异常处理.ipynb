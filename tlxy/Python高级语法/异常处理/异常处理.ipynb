{
 "cells": [
  {
   "cell_type": "markdown",
   "metadata": {},
   "source": [
    "# 异常\n",
    "- 广义上的错误分为错误和异常\n",
    "    - 错误是可以人为避免的\n",
    "    - 异常是指在语法逻辑正确的前提下,出现问题,无法避免\n",
    "- 在Python里,异常是一个类,可以处理和使用"
   ]
  },
  {
   "cell_type": "markdown",
   "metadata": {},
   "source": [
    "# 异常处理\n",
    "- 不能保证程序永远正确运行\n",
    "- 但是,必须保证程序在最坏的情况下出现的问题被妥善处理\n",
    "- Python的异常处理模块全部语法为:\n",
    "    \n",
    "        try:\n",
    "            尝试实现某个操作\n",
    "            如果没有出现异常,任务可以完成\n",
    "            如果出现异常,将异常从当前代码块扔出去尝试解决异常\n",
    "        except 异常类型1:\n",
    "            解决方案1:用于尝试在此处处理异常,解决问题\n",
    "        except 异常类型2:\n",
    "            解决方案2:用于尝试在此处处理异常,解决问题\n",
    "        except (异常类型3, 4, ...):\n",
    "            解决方案:针对多个异常,使用相同的处理方式\n",
    "        except:\n",
    "            解决方案:所有异常的解决方案\n",
    "        else:\n",
    "            如果没有出现任何异常,将会执行此处代码\n",
    "        finally:\n",
    "            不管有没有出现异常都要执行的代码\n",
    "            \n",
    "- 流程\n",
    "    1. 执行try中的语句\n",
    "    2. 如果出现异常,则在except语句里查找对应异常进行处理\n",
    "    3. 如果没有异常出现,则执行else语句中的内容\n",
    "    4. 最后,不管是否出现异常,都要执行finally语句\n",
    "- 除了except(最少一个)以外,else和finally都是可选项"
   ]
  },
  {
   "cell_type": "code",
   "execution_count": 2,
   "metadata": {},
   "outputs": [
    {
     "name": "stdout",
     "output_type": "stream",
     "text": [
      "Plz input your number:a\n",
      "你的输入错误.\n"
     ]
    }
   ],
   "source": [
    "# 简单异常案例\n",
    "\n",
    "try:\n",
    "    num = int(input(\"Plz input your number:\"))\n",
    "    rst = 100/num\n",
    "    print(\"计算结果是:{0}.\".format(rst))\n",
    "except:\n",
    "    print(\"你的输入错误.\")\n",
    "    # exit是退出程序的意思\n",
    "    exit(1)"
   ]
  },
  {
   "cell_type": "code",
   "execution_count": 3,
   "metadata": {},
   "outputs": [
    {
     "name": "stdout",
     "output_type": "stream",
     "text": [
      "Plz input your number:0\n",
      "你的输入错误.\n",
      "division by zero\n"
     ]
    }
   ],
   "source": [
    "# 给出错误提示信息\n",
    "\n",
    "try:\n",
    "    num = int(input(\"Plz input your number:\"))\n",
    "    rst = 100/num\n",
    "    print(\"计算结果是:{0}.\".format(rst))\n",
    "# 捕获异常后,把异常实例化,出错信息会在实例里\n",
    "# 注意以下写法\n",
    "# 以下语句是捕获ZeroDivisionError异常并实例化为实例e\n",
    "except ZeroDivisionError as e:\n",
    "    print(\"你的输入错误.\")\n",
    "    print(e)\n",
    "    # exit是退出程序的意思\n",
    "    exit(1)\n",
    "    \n",
    "# 作业:为什么我们可以直接打印出实例e,此时实例e应该实现了哪个函数"
   ]
  },
  {
   "cell_type": "code",
   "execution_count": 4,
   "metadata": {},
   "outputs": [
    {
     "name": "stdout",
     "output_type": "stream",
     "text": [
      "Plz input your number:25\n",
      "名字起错了.\n",
      "name 'pritn' is not defined\n",
      "hahahahaha\n"
     ]
    }
   ],
   "source": [
    "# 多错误处理\n",
    "\n",
    "try:\n",
    "    num = int(input(\"Plz input your number:\"))\n",
    "    rst = 100/num\n",
    "    pritn(\"计算结果是:{0}.\".format(rst))\n",
    "# 如果有多种error的情况\n",
    "# 需要把越具体的错误,越往前放\n",
    "# 也就是说在异常类继承关系中,越是子类的异常,越要往前放\n",
    "# 在处理异常的时候,一定拦截到某一个异常,则不再继续往下查看,直接执行下一个代码\n",
    "# 即有finally则执行finally,否则继续往下执行\n",
    "except ZeroDivisionError as e:\n",
    "    print(\"你的输入错误.\")\n",
    "    print(e)\n",
    "    # exit是退出程序的意思\n",
    "    exit(1)\n",
    "except NameError as e:\n",
    "    print(\"名字起错了.\")\n",
    "    print(e)\n",
    "    exit(1)\n",
    "except AttributeError as e:\n",
    "    print(\"好像属性有问题.\")\n",
    "    print(e)\n",
    "    exit(1)\n",
    "# 所有异常都继承自Exception\n",
    "# 如果写上下面这句话,任何异常都会拦截住\n",
    "# 而且下面这句话一定是最后一个except\n",
    "except Exception as e:\n",
    "    print(\"我也不知道就出错了.\")\n",
    "    print(e)\n",
    "    \n",
    "print('hahahahaha')"
   ]
  },
  {
   "cell_type": "markdown",
   "metadata": {},
   "source": [
    "# 用户手动引发异常\n",
    "- 当某些情况,用户希望自己引发一个异常的时候,可以使用 raise 关键字来引发异常"
   ]
  },
  {
   "cell_type": "code",
   "execution_count": 6,
   "metadata": {},
   "outputs": [
    {
     "name": "stdout",
     "output_type": "stream",
     "text": [
      "I love Wangxiaojing.\n",
      "3.1415926\n",
      "ValueError\n",
      "我肯定会被执行的.\n"
     ]
    }
   ],
   "source": [
    "# raise案例-1\n",
    "\n",
    "try:\n",
    "    print(\"I love Wangxiaojing.\")\n",
    "    print(3.1415926)\n",
    "    # 手动引发一个异常\n",
    "    # 注意语法:raise ErrorClassName\n",
    "    raise ValueError\n",
    "    print(\"Continue.\")\n",
    "except NameError as e:\n",
    "    print(\"NameError\")\n",
    "except ValueError as e:\n",
    "    print(\"ValueError\")\n",
    "except Exception as e:\n",
    "    print(\"有异常.\")\n",
    "finally:\n",
    "    print(\"我肯定会被执行的.\")"
   ]
  },
  {
   "cell_type": "code",
   "execution_count": 9,
   "metadata": {},
   "outputs": [
    {
     "name": "stdout",
     "output_type": "stream",
     "text": [
      "I love Wangxiaojing.\n",
      "3.1415926\n",
      "ValueError\n",
      "我肯定会被执行的.\n"
     ]
    }
   ],
   "source": [
    "# raise 案例-2\n",
    "# 自己定义异常\n",
    "# 需要注意:自定义异常必须是系统异常的子类\n",
    "\n",
    "class DanaError(ValueError):\n",
    "    pass\n",
    "\n",
    "try:\n",
    "    print(\"I love Wangxiaojing.\")\n",
    "    print(3.1415926)\n",
    "    # 手动引发一个异常\n",
    "    # 注意语法:raise ErrorClassName\n",
    "    raise DanaError\n",
    "    print(\"Continue.\")\n",
    "except NameError as e:\n",
    "    print(\"NameError\")\n",
    "# except DanaError as e:\n",
    "#     print(\"DanaError\")\n",
    "except ValueError as e:\n",
    "    print(\"ValueError\")\n",
    "except Exception as e:\n",
    "    print(\"有异常.\")\n",
    "finally:\n",
    "    print(\"我肯定会被执行的.\")"
   ]
  },
  {
   "cell_type": "code",
   "execution_count": 1,
   "metadata": {},
   "outputs": [
    {
     "name": "stdout",
     "output_type": "stream",
     "text": [
      "Plz input your number:4\n",
      "计算结果是:25.0.\n",
      "No Exception\n",
      "反正我会被执行\n"
     ]
    }
   ],
   "source": [
    "# else 案例\n",
    "\n",
    "try:\n",
    "    num = int(input(\"Plz input your number:\"))\n",
    "    rst = 100/num\n",
    "    print(\"计算结果是:{0}.\".format(rst))\n",
    "except Exception as e:\n",
    "    print(\"Exception\")\n",
    "else:\n",
    "    print(\"No Exception\")\n",
    "finally:\n",
    "    print(\"反正我会被执行\")"
   ]
  },
  {
   "cell_type": "markdown",
   "metadata": {},
   "source": [
    "# 关于自定义异常\n",
    "- 只要是raise异常,则推荐自定义异常,方便扩展\n",
    "- 在自定义异常的时候,一般包含以下内容:\n",
    "    - 自定义发生异常的异常代码\n",
    "    - 自定义发生异常后的问题提示\n",
    "    - 自定义发生异常的行数\n",
    "- 最终的目的是,一旦发生异常,方便程序员快速定位错误现场"
   ]
  }
 ],
 "metadata": {
  "kernelspec": {
   "display_name": "Python 3",
   "language": "python",
   "name": "python3"
  },
  "language_info": {
   "codemirror_mode": {
    "name": "ipython",
    "version": 3
   },
   "file_extension": ".py",
   "mimetype": "text/x-python",
   "name": "python",
   "nbconvert_exporter": "python",
   "pygments_lexer": "ipython3",
   "version": "3.6.3"
  }
 },
 "nbformat": 4,
 "nbformat_minor": 2
}
